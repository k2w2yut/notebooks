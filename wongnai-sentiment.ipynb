{
 "cells": [
  {
   "cell_type": "code",
   "execution_count": 67,
   "metadata": {},
   "outputs": [],
   "source": [
    "import pandas as pd\n",
    "import sklearn as sk\n",
    "import numpy as np\n",
    "from itertools import groupby\n",
    "from pythainlp.tokenize import word_tokenize\n",
    "from pythainlp.corpus import thai_stopwords\n",
    "import warnings\n",
    "warnings.filterwarnings('ignore')"
   ]
  },
  {
   "cell_type": "markdown",
   "metadata": {},
   "source": [
    "## Read Wongnai sentiment data\n",
    "#### Refernce: https://www.kaggle.com/c/wongnai-challenge-review-rating-prediction/data"
   ]
  },
  {
   "cell_type": "code",
   "execution_count": 79,
   "metadata": {},
   "outputs": [
    {
     "name": "stdout",
     "output_type": "stream",
     "text": [
      "total review:  40000\n",
      "ร้านอาหารใหญ่มากกกกกกก \n",
      "เลี้ยวเข้ามาเจอห้องน้ำก่อนเลย เออแปลกดี \n",
      "ห้องทานหลักๆอยู่ชั้น 2 มีกาแฟ น้ำผึ้ง ซึ่งก็แค่เอาน้ำผึ้งมาราด แพงเวอร์ อย่าสั่งเลย \n",
      "ลาบไข่ต้ม ไข่มันคาวอะ เลยไม่ประทับใจเท่าไหร่\n",
      "ทอดมันหัวปลีกรอบอร่อยต้องเบิ้ล \n",
      "พะแนงห่อไข่อร่อยดี เห้ยแต่ราคา 150บาทมันเกินไปนะ รับไม่ไหวว\n",
      "เลิกกินแล้วมีขนมหวานให้กินฟรีเล็กน้อย )ขนมไทย) \n",
      "\n",
      "คงไม่ไปซ้ำ แพงเกิน \n"
     ]
    },
    {
     "data": {
      "text/html": [
       "<div>\n",
       "<style scoped>\n",
       "    .dataframe tbody tr th:only-of-type {\n",
       "        vertical-align: middle;\n",
       "    }\n",
       "\n",
       "    .dataframe tbody tr th {\n",
       "        vertical-align: top;\n",
       "    }\n",
       "\n",
       "    .dataframe thead th {\n",
       "        text-align: right;\n",
       "    }\n",
       "</style>\n",
       "<table border=\"1\" class=\"dataframe\">\n",
       "  <thead>\n",
       "    <tr style=\"text-align: right;\">\n",
       "      <th></th>\n",
       "      <th>text</th>\n",
       "      <th>score</th>\n",
       "    </tr>\n",
       "  </thead>\n",
       "  <tbody>\n",
       "    <tr>\n",
       "      <th>0</th>\n",
       "      <td>ร้านอาหารใหญ่มากกกกกกก \\nเลี้ยวเข้ามาเจอห้องน้...</td>\n",
       "      <td>3</td>\n",
       "    </tr>\n",
       "    <tr>\n",
       "      <th>1</th>\n",
       "      <td>อาหารที่นี่เป็นอาหารจีนแคะที่หากินยากในบ้านเรา...</td>\n",
       "      <td>4</td>\n",
       "    </tr>\n",
       "    <tr>\n",
       "      <th>2</th>\n",
       "      <td>ปอเปี๊ยะสด ทุกวันนี้รู้สึกว่าหากินยาก (ร้านที่...</td>\n",
       "      <td>3</td>\n",
       "    </tr>\n",
       "    <tr>\n",
       "      <th>3</th>\n",
       "      <td>รัานคัพเค้กในเมืองไทยมีไม่มาก หลายๆคนอาจจะสงสั...</td>\n",
       "      <td>5</td>\n",
       "    </tr>\n",
       "    <tr>\n",
       "      <th>4</th>\n",
       "      <td>อร่อย!!! เดินผ่านDigital gatewayทุกวัน ไม่ยักร...</td>\n",
       "      <td>5</td>\n",
       "    </tr>\n",
       "  </tbody>\n",
       "</table>\n",
       "</div>"
      ],
      "text/plain": [
       "                                                text  score\n",
       "0  ร้านอาหารใหญ่มากกกกกกก \\nเลี้ยวเข้ามาเจอห้องน้...      3\n",
       "1  อาหารที่นี่เป็นอาหารจีนแคะที่หากินยากในบ้านเรา...      4\n",
       "2  ปอเปี๊ยะสด ทุกวันนี้รู้สึกว่าหากินยาก (ร้านที่...      3\n",
       "3  รัานคัพเค้กในเมืองไทยมีไม่มาก หลายๆคนอาจจะสงสั...      5\n",
       "4  อร่อย!!! เดินผ่านDigital gatewayทุกวัน ไม่ยักร...      5"
      ]
     },
     "execution_count": 79,
     "metadata": {},
     "output_type": "execute_result"
    }
   ],
   "source": [
    "data_df = pd.read_csv('../my_shared_data_folder/w_review_train.csv',names=['text','score'],sep=';')\n",
    "print('total review: ',data_df.text.size)\n",
    "print(data_df['text'][0])\n",
    "data_df.head()"
   ]
  },
  {
   "cell_type": "markdown",
   "metadata": {},
   "source": [
    "## Encoded raw sentence to array of index (of words) "
   ]
  },
  {
   "cell_type": "markdown",
   "metadata": {},
   "source": [
    "### 1. Tokenize sentnce with PythaiNLP's deepcut"
   ]
  },
  {
   "cell_type": "code",
   "execution_count": 70,
   "metadata": {},
   "outputs": [
    {
     "data": {
      "text/plain": [
       "['ร้าน',\n",
       " 'อาหาร',\n",
       " 'ใหญ่',\n",
       " 'มาก',\n",
       " 'กกกกกก',\n",
       " ' \\n',\n",
       " 'เลี้ยว',\n",
       " 'เข้า',\n",
       " 'มา',\n",
       " 'เจอ',\n",
       " 'ห้องน้ำ',\n",
       " 'ก่อน',\n",
       " 'เลย',\n",
       " ' ',\n",
       " 'เออแปลก',\n",
       " 'ดี',\n",
       " ' \\n',\n",
       " 'ห้องทาน',\n",
       " 'หลัก',\n",
       " 'ๆ',\n",
       " 'อยู่',\n",
       " 'ชั้น',\n",
       " ' ',\n",
       " '2',\n",
       " ' ',\n",
       " 'มี',\n",
       " 'กาแฟ',\n",
       " ' ',\n",
       " 'น้ำผึ้ง',\n",
       " ' ',\n",
       " 'ซึ่ง',\n",
       " 'ก็',\n",
       " 'แค่',\n",
       " 'เอา',\n",
       " 'น้ำผึ้ง',\n",
       " 'มา',\n",
       " 'ราด',\n",
       " ' แพงเวอร์',\n",
       " ' ',\n",
       " 'อย่า',\n",
       " 'สั่ง',\n",
       " 'เลย',\n",
       " ' \\n',\n",
       " 'ลาบ',\n",
       " 'ไข่',\n",
       " 'ต้ม',\n",
       " ' ',\n",
       " 'ไข่',\n",
       " 'มัน',\n",
       " 'คาว',\n",
       " 'อะ',\n",
       " ' ',\n",
       " 'เลย',\n",
       " 'ไม่',\n",
       " 'ประทับใจ',\n",
       " 'เท่า',\n",
       " 'ไหร่\\n',\n",
       " 'ทอด',\n",
       " 'มัน',\n",
       " 'หัว',\n",
       " 'ปลีก',\n",
       " 'รอบ',\n",
       " 'อร่อย',\n",
       " 'ต้อง',\n",
       " 'เบิ้ล',\n",
       " ' \\n',\n",
       " 'พะแนง',\n",
       " 'ห่อ',\n",
       " 'ไข่',\n",
       " 'อร่อย',\n",
       " 'ดี',\n",
       " ' ',\n",
       " 'เห้ยแต่',\n",
       " 'ราคา',\n",
       " ' ',\n",
       " '150',\n",
       " 'บาท',\n",
       " 'มัน',\n",
       " 'เกิน',\n",
       " 'ไป',\n",
       " 'นะ',\n",
       " ' ',\n",
       " 'รับ',\n",
       " 'ไม่',\n",
       " 'ไหวว\\n',\n",
       " 'เลิก',\n",
       " 'กิน',\n",
       " 'แล้ว',\n",
       " 'มี',\n",
       " 'ขนม',\n",
       " 'หวาน',\n",
       " 'ให้',\n",
       " 'กิน',\n",
       " 'ฟรี',\n",
       " 'เล็กน้อย',\n",
       " ' ',\n",
       " ')',\n",
       " 'ขนม',\n",
       " 'ไทย',\n",
       " ')',\n",
       " ' \\n\\n',\n",
       " 'คง',\n",
       " 'ไม่',\n",
       " 'ไป',\n",
       " 'ซ้ำ',\n",
       " ' ',\n",
       " 'แพงเกิน',\n",
       " ' ']"
      ]
     },
     "execution_count": 70,
     "metadata": {},
     "output_type": "execute_result"
    }
   ],
   "source": [
    "t0 = word_tokenize(data_df['text'][0],engine='deepcut')\n",
    "t0"
   ]
  },
  {
   "cell_type": "markdown",
   "metadata": {},
   "source": [
    "### 2. get stop word, exception word"
   ]
  },
  {
   "cell_type": "code",
   "execution_count": 71,
   "metadata": {},
   "outputs": [
    {
     "data": {
      "text/plain": [
       "['ถึงเมื่อไร',\n",
       " 'บน',\n",
       " 'ก็แล้วแต่',\n",
       " 'ระยะๆ',\n",
       " 'เพียงเพื่อ',\n",
       " 'ให้แก่',\n",
       " 'ครั้งคราว',\n",
       " 'ไม่',\n",
       " 'ตลอดเวลา',\n",
       " 'ใช่']"
      ]
     },
     "execution_count": 71,
     "metadata": {},
     "output_type": "execute_result"
    }
   ],
   "source": [
    "stop_word = thai_stopwords()\n",
    "list(stop_word)[0:10]"
   ]
  },
  {
   "cell_type": "code",
   "execution_count": 6,
   "metadata": {},
   "outputs": [],
   "source": [
    "t0_cleaned = []\n",
    "escape_word = ['\\n','',' ',')','(']\n",
    "for word in t0:\n",
    "    word = word.strip().replace('\\n','')\n",
    "    if word not in stop_word and word not in escape_word:\n",
    "        t0_cleaned.append(word)"
   ]
  },
  {
   "cell_type": "code",
   "execution_count": 65,
   "metadata": {},
   "outputs": [
    {
     "name": "stdout",
     "output_type": "stream",
     "text": [
      "original: 108\n",
      "stop word removed: 53\n"
     ]
    }
   ],
   "source": [
    "print('original:', len(t0))\n",
    "print('stop word removed:', len(t0_cleaned))"
   ]
  },
  {
   "cell_type": "code",
   "execution_count": 72,
   "metadata": {},
   "outputs": [],
   "source": [
    "## sumarize the function\n",
    "def tokenize_word(text):\n",
    "    words_ori = word_tokenize(text,engine='deepcut')\n",
    "    words_cleaned = []\n",
    "    escape_word = ['\\n','',' ',')','(']\n",
    "    stop_word = thai_stopwords()\n",
    "    for word in words_ori:\n",
    "        word = word.strip().replace('\\n','')\n",
    "        if word not in stop_word and word not in escape_word:\n",
    "            words_cleaned.append(word)\n",
    "    return words_cleaned"
   ]
  },
  {
   "cell_type": "markdown",
   "metadata": {},
   "source": [
    "### 3. Apply tokenization to dataset"
   ]
  },
  {
   "cell_type": "markdown",
   "metadata": {},
   "source": [
    "#### For the sake of limited resource, only 50 data is using for now"
   ]
  },
  {
   "cell_type": "code",
   "execution_count": 73,
   "metadata": {},
   "outputs": [],
   "source": [
    "data_df_t = data_df[0:50]\n",
    "data_df_t['token'] = data_df_t['text'].apply(tokenize_word)"
   ]
  },
  {
   "cell_type": "code",
   "execution_count": 74,
   "metadata": {},
   "outputs": [
    {
     "data": {
      "text/html": [
       "<div>\n",
       "<style scoped>\n",
       "    .dataframe tbody tr th:only-of-type {\n",
       "        vertical-align: middle;\n",
       "    }\n",
       "\n",
       "    .dataframe tbody tr th {\n",
       "        vertical-align: top;\n",
       "    }\n",
       "\n",
       "    .dataframe thead th {\n",
       "        text-align: right;\n",
       "    }\n",
       "</style>\n",
       "<table border=\"1\" class=\"dataframe\">\n",
       "  <thead>\n",
       "    <tr style=\"text-align: right;\">\n",
       "      <th></th>\n",
       "      <th>text</th>\n",
       "      <th>score</th>\n",
       "      <th>token</th>\n",
       "    </tr>\n",
       "  </thead>\n",
       "  <tbody>\n",
       "    <tr>\n",
       "      <th>0</th>\n",
       "      <td>ร้านอาหารใหญ่มากกกกกกก \\nเลี้ยวเข้ามาเจอห้องน้...</td>\n",
       "      <td>3</td>\n",
       "      <td>[ร้าน, อาหาร, กกกกกก, เลี้ยว, เจอ, ห้องน้ำ, เอ...</td>\n",
       "    </tr>\n",
       "    <tr>\n",
       "      <th>1</th>\n",
       "      <td>อาหารที่นี่เป็นอาหารจีนแคะที่หากินยากในบ้านเรา...</td>\n",
       "      <td>4</td>\n",
       "      <td>[อาหาร, อาหาร, จีน, แคะ, หากิน, บ้าน, ตัว, ร้า...</td>\n",
       "    </tr>\n",
       "    <tr>\n",
       "      <th>2</th>\n",
       "      <td>ปอเปี๊ยะสด ทุกวันนี้รู้สึกว่าหากินยาก (ร้านที่...</td>\n",
       "      <td>3</td>\n",
       "      <td>[ปอเปี๊ยะ, สด, รู้สึก, หา, กิน, ร้าน, ขาย, ปอเ...</td>\n",
       "    </tr>\n",
       "    <tr>\n",
       "      <th>3</th>\n",
       "      <td>รัานคัพเค้กในเมืองไทยมีไม่มาก หลายๆคนอาจจะสงสั...</td>\n",
       "      <td>5</td>\n",
       "      <td>[รัานคัพ, เค้ก, เมืองไทย, คน, สงสัย, คัพเค้ก, ...</td>\n",
       "    </tr>\n",
       "    <tr>\n",
       "      <th>4</th>\n",
       "      <td>อร่อย!!! เดินผ่านDigital gatewayทุกวัน ไม่ยักร...</td>\n",
       "      <td>5</td>\n",
       "      <td>[อร่อย, !, !, !, เดิน, Digital, gateway, ยัก, ...</td>\n",
       "    </tr>\n",
       "  </tbody>\n",
       "</table>\n",
       "</div>"
      ],
      "text/plain": [
       "                                                text  score  \\\n",
       "0  ร้านอาหารใหญ่มากกกกกกก \\nเลี้ยวเข้ามาเจอห้องน้...      3   \n",
       "1  อาหารที่นี่เป็นอาหารจีนแคะที่หากินยากในบ้านเรา...      4   \n",
       "2  ปอเปี๊ยะสด ทุกวันนี้รู้สึกว่าหากินยาก (ร้านที่...      3   \n",
       "3  รัานคัพเค้กในเมืองไทยมีไม่มาก หลายๆคนอาจจะสงสั...      5   \n",
       "4  อร่อย!!! เดินผ่านDigital gatewayทุกวัน ไม่ยักร...      5   \n",
       "\n",
       "                                               token  \n",
       "0  [ร้าน, อาหาร, กกกกกก, เลี้ยว, เจอ, ห้องน้ำ, เอ...  \n",
       "1  [อาหาร, อาหาร, จีน, แคะ, หากิน, บ้าน, ตัว, ร้า...  \n",
       "2  [ปอเปี๊ยะ, สด, รู้สึก, หา, กิน, ร้าน, ขาย, ปอเ...  \n",
       "3  [รัานคัพ, เค้ก, เมืองไทย, คน, สงสัย, คัพเค้ก, ...  \n",
       "4  [อร่อย, !, !, !, เดิน, Digital, gateway, ยัก, ...  "
      ]
     },
     "execution_count": 74,
     "metadata": {},
     "output_type": "execute_result"
    }
   ],
   "source": [
    "data_df_t.head()"
   ]
  },
  {
   "cell_type": "markdown",
   "metadata": {},
   "source": [
    "### 4. Make vocabulary list\n",
    "#### 1) Find how many vocabularies are used in this dataset\n",
    "#### 2) Filter only word exist more than 1\n",
    "#### 3) Define vocab_list and 'NA' symbol"
   ]
  },
  {
   "cell_type": "code",
   "execution_count": 81,
   "metadata": {},
   "outputs": [
    {
     "name": "stdout",
     "output_type": "stream",
     "text": [
      "vocab size: 643\n",
      "vocab list: ['_', 'ร้าน', 'กิน', 'อาหาร', 'คน', 'ดี', '\"', 'เนื้อ', 'ทาน', 'อร่อย']\n"
     ]
    }
   ],
   "source": [
    "vocab_w = [item for sublist in data_df_t.token for item in sublist]\n",
    "vocab_df = pd.DataFrame({'word':vocab_w})\n",
    "vocab_n = vocab_df['word'].value_counts()\n",
    "vocab = vocab_n[vocab_n > 1]\n",
    "vocab_list = ['_'] + list(vocab.keys())\n",
    "vocab_size = len(vocab_list)\n",
    "print('vocab size:',vocab_size)\n",
    "print('vocab list:',vocab_list[0:10])"
   ]
  },
  {
   "cell_type": "markdown",
   "metadata": {},
   "source": [
    "### 5. Encode words to 'array of word index'"
   ]
  },
  {
   "cell_type": "code",
   "execution_count": 82,
   "metadata": {},
   "outputs": [],
   "source": [
    "# [vocab_list.index(word) if word in vocab_list else 0 for word in train_data.token[0]]\n",
    "vocab_onehot = []\n",
    "for word in data_df_t.token[0]:\n",
    "    if word in vocab_list:\n",
    "        vocab_onehot.append(vocab_list.index(word))\n",
    "    else:\n",
    "        vocab_onehot.append(0)"
   ]
  },
  {
   "cell_type": "code",
   "execution_count": 83,
   "metadata": {},
   "outputs": [],
   "source": [
    "def one_hot_word(words):\n",
    "    return [vocab_list.index(word) if word in vocab_list else 0 for word in words]"
   ]
  },
  {
   "cell_type": "code",
   "execution_count": 84,
   "metadata": {},
   "outputs": [
    {
     "data": {
      "text/html": [
       "<div>\n",
       "<style scoped>\n",
       "    .dataframe tbody tr th:only-of-type {\n",
       "        vertical-align: middle;\n",
       "    }\n",
       "\n",
       "    .dataframe tbody tr th {\n",
       "        vertical-align: top;\n",
       "    }\n",
       "\n",
       "    .dataframe thead th {\n",
       "        text-align: right;\n",
       "    }\n",
       "</style>\n",
       "<table border=\"1\" class=\"dataframe\">\n",
       "  <thead>\n",
       "    <tr style=\"text-align: right;\">\n",
       "      <th></th>\n",
       "      <th>text</th>\n",
       "      <th>score</th>\n",
       "      <th>token</th>\n",
       "      <th>token_onehot</th>\n",
       "    </tr>\n",
       "  </thead>\n",
       "  <tbody>\n",
       "    <tr>\n",
       "      <th>0</th>\n",
       "      <td>ร้านอาหารใหญ่มากกกกกกก \\nเลี้ยวเข้ามาเจอห้องน้...</td>\n",
       "      <td>3</td>\n",
       "      <td>[ร้าน, อาหาร, กกกกกก, เลี้ยว, เจอ, ห้องน้ำ, เอ...</td>\n",
       "      <td>[1, 3, 413, 274, 108, 322, 0, 5, 0, 177, 176, ...</td>\n",
       "    </tr>\n",
       "    <tr>\n",
       "      <th>1</th>\n",
       "      <td>อาหารที่นี่เป็นอาหารจีนแคะที่หากินยากในบ้านเรา...</td>\n",
       "      <td>4</td>\n",
       "      <td>[อาหาร, อาหาร, จีน, แคะ, หากิน, บ้าน, ตัว, ร้า...</td>\n",
       "      <td>[3, 3, 332, 0, 0, 90, 53, 1, 0, 0, 0, 0, 274, ...</td>\n",
       "    </tr>\n",
       "    <tr>\n",
       "      <th>2</th>\n",
       "      <td>ปอเปี๊ยะสด ทุกวันนี้รู้สึกว่าหากินยาก (ร้านที่...</td>\n",
       "      <td>3</td>\n",
       "      <td>[ปอเปี๊ยะ, สด, รู้สึก, หา, กิน, ร้าน, ขาย, ปอเ...</td>\n",
       "      <td>[385, 73, 95, 54, 2, 1, 75, 385, 73, 108, 75, ...</td>\n",
       "    </tr>\n",
       "    <tr>\n",
       "      <th>3</th>\n",
       "      <td>รัานคัพเค้กในเมืองไทยมีไม่มาก หลายๆคนอาจจะสงสั...</td>\n",
       "      <td>5</td>\n",
       "      <td>[รัานคัพ, เค้ก, เมืองไทย, คน, สงสัย, คัพเค้ก, ...</td>\n",
       "      <td>[0, 36, 544, 4, 362, 189, 36, 96, 189, 458, 36...</td>\n",
       "    </tr>\n",
       "    <tr>\n",
       "      <th>4</th>\n",
       "      <td>อร่อย!!! เดินผ่านDigital gatewayทุกวัน ไม่ยักร...</td>\n",
       "      <td>5</td>\n",
       "      <td>[อร่อย, !, !, !, เดิน, Digital, gateway, ยัก, ...</td>\n",
       "      <td>[9, 52, 52, 52, 35, 488, 538, 0, 91, 1, 0, 0, ...</td>\n",
       "    </tr>\n",
       "  </tbody>\n",
       "</table>\n",
       "</div>"
      ],
      "text/plain": [
       "                                                text  score  \\\n",
       "0  ร้านอาหารใหญ่มากกกกกกก \\nเลี้ยวเข้ามาเจอห้องน้...      3   \n",
       "1  อาหารที่นี่เป็นอาหารจีนแคะที่หากินยากในบ้านเรา...      4   \n",
       "2  ปอเปี๊ยะสด ทุกวันนี้รู้สึกว่าหากินยาก (ร้านที่...      3   \n",
       "3  รัานคัพเค้กในเมืองไทยมีไม่มาก หลายๆคนอาจจะสงสั...      5   \n",
       "4  อร่อย!!! เดินผ่านDigital gatewayทุกวัน ไม่ยักร...      5   \n",
       "\n",
       "                                               token  \\\n",
       "0  [ร้าน, อาหาร, กกกกกก, เลี้ยว, เจอ, ห้องน้ำ, เอ...   \n",
       "1  [อาหาร, อาหาร, จีน, แคะ, หากิน, บ้าน, ตัว, ร้า...   \n",
       "2  [ปอเปี๊ยะ, สด, รู้สึก, หา, กิน, ร้าน, ขาย, ปอเ...   \n",
       "3  [รัานคัพ, เค้ก, เมืองไทย, คน, สงสัย, คัพเค้ก, ...   \n",
       "4  [อร่อย, !, !, !, เดิน, Digital, gateway, ยัก, ...   \n",
       "\n",
       "                                        token_onehot  \n",
       "0  [1, 3, 413, 274, 108, 322, 0, 5, 0, 177, 176, ...  \n",
       "1  [3, 3, 332, 0, 0, 90, 53, 1, 0, 0, 0, 0, 274, ...  \n",
       "2  [385, 73, 95, 54, 2, 1, 75, 385, 73, 108, 75, ...  \n",
       "3  [0, 36, 544, 4, 362, 189, 36, 96, 189, 458, 36...  \n",
       "4  [9, 52, 52, 52, 35, 488, 538, 0, 91, 1, 0, 0, ...  "
      ]
     },
     "execution_count": 84,
     "metadata": {},
     "output_type": "execute_result"
    }
   ],
   "source": [
    "data_df_t['token_onehot'] = data_df_t['token'].apply(one_hot_word)\n",
    "data_df_t.head()"
   ]
  },
  {
   "cell_type": "markdown",
   "metadata": {},
   "source": [
    "### 6. Let's play with deep-learning\n",
    "#### We will using only Word embedding layer for detection\n"
   ]
  },
  {
   "cell_type": "code",
   "execution_count": 85,
   "metadata": {},
   "outputs": [],
   "source": [
    "from keras.preprocessing.sequence import pad_sequences\n",
    "from keras.utils import to_categorical\n",
    "from keras.models import Sequential\n",
    "from keras.layers import Dense\n",
    "from keras.layers import Flatten\n",
    "from keras.layers.embeddings import Embedding"
   ]
  },
  {
   "cell_type": "code",
   "execution_count": 94,
   "metadata": {},
   "outputs": [
    {
     "name": "stdout",
     "output_type": "stream",
     "text": [
      "longest sentence:  310\n",
      "Sentence shape:  (50, 310)\n",
      "Result   shape:  (50, 5)\n"
     ]
    }
   ],
   "source": [
    "max_length = data_df_t.token_onehot.map(len).max()\n",
    "num_classes = 5\n",
    "embedding_dimension = 8\n",
    "X_nopadded = data_df_t.token_onehot\n",
    "#Padding sequence, thus, every sentence is in the same length\n",
    "X = pad_sequences(X_nopadded,max_length)\n",
    "Y = to_categorical(list(data_df_t.score - 1),num_classes=num_classes)\n",
    "print('longest sentence: ',max_length)\n",
    "print('Sentence shape: ', X.shape)\n",
    "print('Result   shape: ',Y.shape)"
   ]
  },
  {
   "cell_type": "markdown",
   "metadata": {},
   "source": [
    "#### Since we don't have a huge dataset. let's split train/test set for 70/30"
   ]
  },
  {
   "cell_type": "code",
   "execution_count": 92,
   "metadata": {},
   "outputs": [],
   "source": [
    "X_train,X_test,Y_train,Y_test = sk.model_selection.train_test_split(X,Y,train_size=0.7,random_state=1)"
   ]
  },
  {
   "cell_type": "code",
   "execution_count": 93,
   "metadata": {},
   "outputs": [
    {
     "data": {
      "text/plain": [
       "array([[  0,   0,   0, ..., 102,  30,   0],\n",
       "       [  0,   0,   0, ...,   0,  14,  17],\n",
       "       [  0,   0,   0, ...,  69, 612,   0],\n",
       "       ...,\n",
       "       [  0,   0,   0, ...,   2,  10,  14],\n",
       "       [  0,   0,   0, ..., 224,  20,   0],\n",
       "       [  0,   0,   0, ..., 463,   2, 258]], dtype=int32)"
      ]
     },
     "execution_count": 93,
     "metadata": {},
     "output_type": "execute_result"
    }
   ],
   "source": [
    "X_train"
   ]
  },
  {
   "cell_type": "markdown",
   "metadata": {},
   "source": [
    "#### Define model"
   ]
  },
  {
   "cell_type": "code",
   "execution_count": 96,
   "metadata": {},
   "outputs": [],
   "source": [
    "model = Sequential()\n",
    "model.add(Embedding(vocab_size, embedding_dimension, input_length=max_length))\n",
    "model.add(Flatten())\n",
    "model.add(Dense(num_classes, activation='sigmoid'))"
   ]
  },
  {
   "cell_type": "code",
   "execution_count": 97,
   "metadata": {},
   "outputs": [
    {
     "name": "stdout",
     "output_type": "stream",
     "text": [
      "_________________________________________________________________\n",
      "Layer (type)                 Output Shape              Param #   \n",
      "=================================================================\n",
      "embedding_6 (Embedding)      (None, 310, 8)            5144      \n",
      "_________________________________________________________________\n",
      "flatten_5 (Flatten)          (None, 2480)              0         \n",
      "_________________________________________________________________\n",
      "dense_18 (Dense)             (None, 5)                 12405     \n",
      "=================================================================\n",
      "Total params: 17,549\n",
      "Trainable params: 17,549\n",
      "Non-trainable params: 0\n",
      "_________________________________________________________________\n",
      "None\n"
     ]
    }
   ],
   "source": [
    "model.compile(optimizer='adam', loss='binary_crossentropy', metrics=['acc'])\n",
    "print(model.summary())"
   ]
  },
  {
   "cell_type": "markdown",
   "metadata": {},
   "source": [
    "#### Fit the model to train dataset"
   ]
  },
  {
   "cell_type": "code",
   "execution_count": 98,
   "metadata": {},
   "outputs": [
    {
     "name": "stdout",
     "output_type": "stream",
     "text": [
      "Epoch 1/50\n",
      "35/35 [==============================] - 0s 9ms/step - loss: 0.6971 - acc: 0.4629\n",
      "Epoch 2/50\n",
      "35/35 [==============================] - 0s 273us/step - loss: 0.6741 - acc: 0.7943\n",
      "Epoch 3/50\n",
      "35/35 [==============================] - 0s 257us/step - loss: 0.6521 - acc: 0.8457\n",
      "Epoch 4/50\n",
      "35/35 [==============================] - 0s 149us/step - loss: 0.6294 - acc: 0.8229\n",
      "Epoch 5/50\n",
      "35/35 [==============================] - 0s 254us/step - loss: 0.6056 - acc: 0.8229\n",
      "Epoch 6/50\n",
      "35/35 [==============================] - 0s 144us/step - loss: 0.5803 - acc: 0.8286\n",
      "Epoch 7/50\n",
      "35/35 [==============================] - 0s 240us/step - loss: 0.5551 - acc: 0.8286\n",
      "Epoch 8/50\n",
      "35/35 [==============================] - 0s 154us/step - loss: 0.5298 - acc: 0.8229\n",
      "Epoch 9/50\n",
      "35/35 [==============================] - 0s 212us/step - loss: 0.5057 - acc: 0.8229\n",
      "Epoch 10/50\n",
      "35/35 [==============================] - 0s 149us/step - loss: 0.4823 - acc: 0.8229\n",
      "Epoch 11/50\n",
      "35/35 [==============================] - 0s 238us/step - loss: 0.4609 - acc: 0.8229\n",
      "Epoch 12/50\n",
      "35/35 [==============================] - 0s 191us/step - loss: 0.4420 - acc: 0.8229\n",
      "Epoch 13/50\n",
      "35/35 [==============================] - 0s 252us/step - loss: 0.4251 - acc: 0.8229\n",
      "Epoch 14/50\n",
      "35/35 [==============================] - 0s 140us/step - loss: 0.4113 - acc: 0.8229\n",
      "Epoch 15/50\n",
      "35/35 [==============================] - 0s 254us/step - loss: 0.4000 - acc: 0.8229\n",
      "Epoch 16/50\n",
      "35/35 [==============================] - 0s 156us/step - loss: 0.3905 - acc: 0.8400\n",
      "Epoch 17/50\n",
      "35/35 [==============================] - 0s 267us/step - loss: 0.3851 - acc: 0.8686\n",
      "Epoch 18/50\n",
      "35/35 [==============================] - 0s 200us/step - loss: 0.3783 - acc: 0.8857\n",
      "Epoch 19/50\n",
      "35/35 [==============================] - 0s 387us/step - loss: 0.3732 - acc: 0.8857\n",
      "Epoch 20/50\n",
      "35/35 [==============================] - 0s 239us/step - loss: 0.3692 - acc: 0.8400\n",
      "Epoch 21/50\n",
      "35/35 [==============================] - 0s 270us/step - loss: 0.3643 - acc: 0.8286\n",
      "Epoch 22/50\n",
      "35/35 [==============================] - 0s 136us/step - loss: 0.3587 - acc: 0.8286\n",
      "Epoch 23/50\n",
      "35/35 [==============================] - 0s 210us/step - loss: 0.3519 - acc: 0.8514\n",
      "Epoch 24/50\n",
      "35/35 [==============================] - 0s 355us/step - loss: 0.3441 - acc: 0.8971\n",
      "Epoch 25/50\n",
      "35/35 [==============================] - 0s 326us/step - loss: 0.3380 - acc: 0.8857\n",
      "Epoch 26/50\n",
      "35/35 [==============================] - 0s 313us/step - loss: 0.3326 - acc: 0.8743\n",
      "Epoch 27/50\n",
      "35/35 [==============================] - 0s 242us/step - loss: 0.3286 - acc: 0.8686\n",
      "Epoch 28/50\n",
      "35/35 [==============================] - 0s 163us/step - loss: 0.3256 - acc: 0.8686\n",
      "Epoch 29/50\n",
      "35/35 [==============================] - 0s 151us/step - loss: 0.3233 - acc: 0.8571\n",
      "Epoch 30/50\n",
      "35/35 [==============================] - 0s 225us/step - loss: 0.3218 - acc: 0.8571\n",
      "Epoch 31/50\n",
      "35/35 [==============================] - 0s 184us/step - loss: 0.3191 - acc: 0.8629\n",
      "Epoch 32/50\n",
      "35/35 [==============================] - 0s 222us/step - loss: 0.3157 - acc: 0.8629\n",
      "Epoch 33/50\n",
      "35/35 [==============================] - 0s 130us/step - loss: 0.3116 - acc: 0.8629\n",
      "Epoch 34/50\n",
      "35/35 [==============================] - 0s 143us/step - loss: 0.3065 - acc: 0.8743\n",
      "Epoch 35/50\n",
      "35/35 [==============================] - 0s 154us/step - loss: 0.3021 - acc: 0.8800\n",
      "Epoch 36/50\n",
      "35/35 [==============================] - 0s 176us/step - loss: 0.2981 - acc: 0.8857\n",
      "Epoch 37/50\n",
      "35/35 [==============================] - 0s 183us/step - loss: 0.2944 - acc: 0.8914\n",
      "Epoch 38/50\n",
      "35/35 [==============================] - 0s 149us/step - loss: 0.2911 - acc: 0.9029\n",
      "Epoch 39/50\n",
      "35/35 [==============================] - 0s 197us/step - loss: 0.2878 - acc: 0.9029\n",
      "Epoch 40/50\n",
      "35/35 [==============================] - 0s 141us/step - loss: 0.2841 - acc: 0.9029\n",
      "Epoch 41/50\n",
      "35/35 [==============================] - 0s 155us/step - loss: 0.2806 - acc: 0.8971\n",
      "Epoch 42/50\n",
      "35/35 [==============================] - 0s 133us/step - loss: 0.2772 - acc: 0.8971\n",
      "Epoch 43/50\n",
      "35/35 [==============================] - 0s 148us/step - loss: 0.2740 - acc: 0.9029\n",
      "Epoch 44/50\n",
      "35/35 [==============================] - 0s 137us/step - loss: 0.2708 - acc: 0.9029\n",
      "Epoch 45/50\n",
      "35/35 [==============================] - 0s 160us/step - loss: 0.2672 - acc: 0.9029\n",
      "Epoch 46/50\n",
      "35/35 [==============================] - 0s 128us/step - loss: 0.2630 - acc: 0.9029\n",
      "Epoch 47/50\n",
      "35/35 [==============================] - 0s 229us/step - loss: 0.2584 - acc: 0.9086\n",
      "Epoch 48/50\n",
      "35/35 [==============================] - 0s 106us/step - loss: 0.2540 - acc: 0.9143\n",
      "Epoch 49/50\n",
      "35/35 [==============================] - 0s 172us/step - loss: 0.2495 - acc: 0.9086\n",
      "Epoch 50/50\n",
      "35/35 [==============================] - 0s 147us/step - loss: 0.2452 - acc: 0.9086\n"
     ]
    },
    {
     "data": {
      "text/plain": [
       "<keras.callbacks.History at 0x11d1ae2b0>"
      ]
     },
     "execution_count": 98,
     "metadata": {},
     "output_type": "execute_result"
    }
   ],
   "source": [
    "model.fit(X_train, Y_train, epochs=50, verbose=1)"
   ]
  },
  {
   "cell_type": "markdown",
   "metadata": {},
   "source": [
    "#### Evaluate the model"
   ]
  },
  {
   "cell_type": "code",
   "execution_count": 103,
   "metadata": {},
   "outputs": [
    {
     "name": "stdout",
     "output_type": "stream",
     "text": [
      "15/15 [==============================] - 0s 129us/step\n",
      "Accuracy: 78.667\n"
     ]
    }
   ],
   "source": [
    "loss, accuracy = model.evaluate(X_test, Y_test)\n",
    "print('Accuracy: %.3f' % (accuracy*100))"
   ]
  },
  {
   "cell_type": "markdown",
   "metadata": {},
   "source": [
    "### Let's have some insanity check"
   ]
  },
  {
   "cell_type": "code",
   "execution_count": 136,
   "metadata": {},
   "outputs": [],
   "source": [
    "Y_predicted = model.predict(X_test)\n",
    "pref_df = pd.DataFrame({\n",
    "    'text' : [''.join([vocab_list[wordi]  if wordi > 0 else '.' for wordi in token]) for token in X_test],\n",
    "    'fact' : [result.argmax() + 1 for result in Y_test],\n",
    "    'pred' : [predict.argmax() + 1 for predict in Y_predicted]\n",
    "}\n",
    ")"
   ]
  },
  {
   "cell_type": "code",
   "execution_count": 137,
   "metadata": {},
   "outputs": [
    {
     "data": {
      "text/html": [
       "<div>\n",
       "<style scoped>\n",
       "    .dataframe tbody tr th:only-of-type {\n",
       "        vertical-align: middle;\n",
       "    }\n",
       "\n",
       "    .dataframe tbody tr th {\n",
       "        vertical-align: top;\n",
       "    }\n",
       "\n",
       "    .dataframe thead th {\n",
       "        text-align: right;\n",
       "    }\n",
       "</style>\n",
       "<table border=\"1\" class=\"dataframe\">\n",
       "  <thead>\n",
       "    <tr style=\"text-align: right;\">\n",
       "      <th></th>\n",
       "      <th>text</th>\n",
       "      <th>fact</th>\n",
       "      <th>pred</th>\n",
       "    </tr>\n",
       "  </thead>\n",
       "  <tbody>\n",
       "    <tr>\n",
       "      <th>1</th>\n",
       "      <td>............................................................................................................................................................................................................................................................................ร้าน.ร้านอาหารทะเลสด..เสาร์-อาทิตย์ราคาอาหารแพงร้านพนักงานเสิร์ฟอาหารรสชาติเยี่ยมผมสั่งสลัดกุ้งทอด..น้ำยำเปรี้ยวเปรี้ยวดีปลา.สดดีผมแนะนำร้านเหมาะงาน.</td>\n",
       "      <td>3</td>\n",
       "      <td>4</td>\n",
       "    </tr>\n",
       "    <tr>\n",
       "      <th>4</th>\n",
       "      <td>.....................................................................................................................................................................................................................................................ปอเปี๊ยะสดรู้สึกหากินร้านขายปอเปี๊ยะสดเจอขายภัตตาคารอร่อยร้าน.ราคา.30บาทซื้อกินรสชาติดี.กุนเชียงใส่.ราดน้ำจิ้มโอเคยอดเสิร์ฟ.เครื่องเคียงต้นหอม.เสิร์ฟโต๊ะนั่งกินร้านอารมณ์4ดาวป้าสำหรับอาหารเจอ.ป้าอาหาร.ทำปอเปี๊ยะใส่ถุงมือล้างมือผม.ดาว</td>\n",
       "      <td>3</td>\n",
       "      <td>4</td>\n",
       "    </tr>\n",
       "    <tr>\n",
       "      <th>5</th>\n",
       "      <td>..........................................................................................................................................................................................................เค้กเมืองไทยคนสงสัยคัพเค้กเค้กธรรมดาคัพเค้กรูปแบบเค้ก.เค้กจุดเด่นรสชาติเอกลักษณ์ผสมครีมชีสหลักทำหน้าเค้ก.คัพเค้กทาน.เค้กสุดท้ายตกแต่งแตกต่าง.คัพเค้กเค้กคัพเค้กตกแต่งสวยงาน.งานeventคู่บริษัท..สั่งคัพเค้กล่ะงานeventสำหรับร้าน.love.gatewayชั้นสามเดินทางสะดวกติด..ร้านรักดีร้านดู.ดูคึกคักดีผมทานรสรสชาติดีเค้กชุ่มชุ่มเค้กธรรมดาราคาดี59บาทชิ้นทาน.lemonadeร้านlovelemonadeรู้สึกเข้มข้นเปรี้ยวถึงใจหาทานประทับใจอ้อร้าน.ทำ...</td>\n",
       "      <td>5</td>\n",
       "      <td>4</td>\n",
       "    </tr>\n",
       "    <tr>\n",
       "      <th>9</th>\n",
       "      <td>........................................................................................................................................................................................................................................................................ร้านอาหาร..จอดรถ.รสชาติอาหารโอเคระดับนึงแปลกเป็ดอบกาแฟ.ราคาอาหารแพงสำหรับคุณภาพอาหารบรรยากาศ.กลางเริ่ด..ร้าน.ลองดูเลือกสำหรับคนชอบอาหารทะเลราคากลางรสชาติดีบรรยากาศโอเค</td>\n",
       "      <td>3</td>\n",
       "      <td>4</td>\n",
       "    </tr>\n",
       "    <tr>\n",
       "      <th>11</th>\n",
       "      <td>.......................................................................................................................................................................................................................................ร้านข้าวหมูกรอบผมฝากท้อง.ป้าย....ฟัง..นั่งกินจุดเด่นร้านราคาราคา.บาทนั่งกินร้านใส่ห่อร้านน้ำแข็งเปล่าหนังสือพิมพ์บริการฟรีแนะนำข้าวหมูกรอบหนังหมูกรอบอร่อยราดน้ำราดหวานกินพริกซีอิ๊วข้าวไก่ย่างราดน้ำ.เปรี้ยวหวานน้ำซุป1อร่อยผมอร่อย.ข้าวไก่.แดงร้านผมสอง.กรอบหมูกรอบ</td>\n",
       "      <td>2</td>\n",
       "      <td>4</td>\n",
       "    </tr>\n",
       "    <tr>\n",
       "      <th>14</th>\n",
       "      <td>...........................................................................................................ก๋วยเตี๋ยวลูกชิ้นปลาย่าน.ร้านสิบปีกินประจำเวลา.บ่ายฮื่อก้วยอร่อยร้านอร่อยผม.ร้านดูเหมือน.ลอง:Dร้านห้าแยก.ตรงข้าม..ขับรถจอดรถริมถนนร้านคนกินพนักงานร้านเหมือน....กินตอนพักเที่ยงปัญหารองาน.เรื่อง:.ผมกินสั่ง1เส้น.แห้งยำใส่ฮื่อก้วย....รสชาติเยี่ยมเหมือนเส้นเหนียวดีลวกนิ่ม.ชอบกินเส้น..ผมชอบแน่2บะหมี่แห้งต้มยำสั่งเส้นโต๊ะรอบสั่งบะหมี่ลองอร่อยบะหมี่ร้านเส้นแบนร้านชามรสชาติ.แถมเผ็ดเครื่องปรุงเค้าใส่เตือน:กินเผ็ดกินต้มยำผมร้านเค้าอย่าใส่พริกเค้าปรุงรสอร่อย.สะใจชามผมสั่งเครื่องปกติเค้าใส่เกี๊ยว,ลูกชิ้นปลา,ฮื่อก้วยทอด,..,ลูกชิ้นปลาผมประทับใจฮื่อ.อิอิ.2ชามเงิน.บาทน้ำ.เทียบรสชาติเครื่องจ่ายเงิน.คนเดินสั่ง.ฮื่อก้วยทอดใส่ถุงน้ำจิ้มบ้านผมไหว.รอบหน้า:Dสรุปผมร้าน5ดาวสะอาด,ราคารสชาติอร่อยแพ้ร้าน</td>\n",
       "      <td>5</td>\n",
       "      <td>4</td>\n",
       "    </tr>\n",
       "  </tbody>\n",
       "</table>\n",
       "</div>"
      ],
      "text/plain": [
       "                                                                                                                                                                                                                                                                                                                                                                                                                                                                                                                                                                                                                                                                                                                                                                                                                       text  fact  pred\n",
       "1   ............................................................................................................................................................................................................................................................................ร้าน.ร้านอาหารทะเลสด..เสาร์-อาทิตย์ราคาอาหารแพงร้านพนักงานเสิร์ฟอาหารรสชาติเยี่ยมผมสั่งสลัดกุ้งทอด..น้ำยำเปรี้ยวเปรี้ยวดีปลา.สดดีผมแนะนำร้านเหมาะงาน.                                                                                                                                                                                                                                                                                                                                                                                        3     4   \n",
       "4   .....................................................................................................................................................................................................................................................ปอเปี๊ยะสดรู้สึกหากินร้านขายปอเปี๊ยะสดเจอขายภัตตาคารอร่อยร้าน.ราคา.30บาทซื้อกินรสชาติดี.กุนเชียงใส่.ราดน้ำจิ้มโอเคยอดเสิร์ฟ.เครื่องเคียงต้นหอม.เสิร์ฟโต๊ะนั่งกินร้านอารมณ์4ดาวป้าสำหรับอาหารเจอ.ป้าอาหาร.ทำปอเปี๊ยะใส่ถุงมือล้างมือผม.ดาว                                                                                                                                                                                                                                                                                                                           3     4   \n",
       "5   ..........................................................................................................................................................................................................เค้กเมืองไทยคนสงสัยคัพเค้กเค้กธรรมดาคัพเค้กรูปแบบเค้ก.เค้กจุดเด่นรสชาติเอกลักษณ์ผสมครีมชีสหลักทำหน้าเค้ก.คัพเค้กทาน.เค้กสุดท้ายตกแต่งแตกต่าง.คัพเค้กเค้กคัพเค้กตกแต่งสวยงาน.งานeventคู่บริษัท..สั่งคัพเค้กล่ะงานeventสำหรับร้าน.love.gatewayชั้นสามเดินทางสะดวกติด..ร้านรักดีร้านดู.ดูคึกคักดีผมทานรสรสชาติดีเค้กชุ่มชุ่มเค้กธรรมดาราคาดี59บาทชิ้นทาน.lemonadeร้านlovelemonadeรู้สึกเข้มข้นเปรี้ยวถึงใจหาทานประทับใจอ้อร้าน.ทำ...                                                                                                                                                                              5     4   \n",
       "9   ........................................................................................................................................................................................................................................................................ร้านอาหาร..จอดรถ.รสชาติอาหารโอเคระดับนึงแปลกเป็ดอบกาแฟ.ราคาอาหารแพงสำหรับคุณภาพอาหารบรรยากาศ.กลางเริ่ด..ร้าน.ลองดูเลือกสำหรับคนชอบอาหารทะเลราคากลางรสชาติดีบรรยากาศโอเค                                                                                                                                                                                                                                                                                                                                                                          3     4   \n",
       "11  .......................................................................................................................................................................................................................................ร้านข้าวหมูกรอบผมฝากท้อง.ป้าย....ฟัง..นั่งกินจุดเด่นร้านราคาราคา.บาทนั่งกินร้านใส่ห่อร้านน้ำแข็งเปล่าหนังสือพิมพ์บริการฟรีแนะนำข้าวหมูกรอบหนังหมูกรอบอร่อยราดน้ำราดหวานกินพริกซีอิ๊วข้าวไก่ย่างราดน้ำ.เปรี้ยวหวานน้ำซุป1อร่อยผมอร่อย.ข้าวไก่.แดงร้านผมสอง.กรอบหมูกรอบ                                                                                                                                                                                                                                                                                                             2     4   \n",
       "14  ...........................................................................................................ก๋วยเตี๋ยวลูกชิ้นปลาย่าน.ร้านสิบปีกินประจำเวลา.บ่ายฮื่อก้วยอร่อยร้านอร่อยผม.ร้านดูเหมือน.ลอง:Dร้านห้าแยก.ตรงข้าม..ขับรถจอดรถริมถนนร้านคนกินพนักงานร้านเหมือน....กินตอนพักเที่ยงปัญหารองาน.เรื่อง:.ผมกินสั่ง1เส้น.แห้งยำใส่ฮื่อก้วย....รสชาติเยี่ยมเหมือนเส้นเหนียวดีลวกนิ่ม.ชอบกินเส้น..ผมชอบแน่2บะหมี่แห้งต้มยำสั่งเส้นโต๊ะรอบสั่งบะหมี่ลองอร่อยบะหมี่ร้านเส้นแบนร้านชามรสชาติ.แถมเผ็ดเครื่องปรุงเค้าใส่เตือน:กินเผ็ดกินต้มยำผมร้านเค้าอย่าใส่พริกเค้าปรุงรสอร่อย.สะใจชามผมสั่งเครื่องปกติเค้าใส่เกี๊ยว,ลูกชิ้นปลา,ฮื่อก้วยทอด,..,ลูกชิ้นปลาผมประทับใจฮื่อ.อิอิ.2ชามเงิน.บาทน้ำ.เทียบรสชาติเครื่องจ่ายเงิน.คนเดินสั่ง.ฮื่อก้วยทอดใส่ถุงน้ำจิ้มบ้านผมไหว.รอบหน้า:Dสรุปผมร้าน5ดาวสะอาด,ราคารสชาติอร่อยแพ้ร้าน  5     4   "
      ]
     },
     "execution_count": 137,
     "metadata": {},
     "output_type": "execute_result"
    }
   ],
   "source": [
    "pd.set_option('display.max_colwidth', 0) #default at 50\n",
    "pref_df[pref_df.fact != pref_df.pred]"
   ]
  },
  {
   "cell_type": "code",
   "execution_count": null,
   "metadata": {},
   "outputs": [],
   "source": []
  }
 ],
 "metadata": {
  "kernelspec": {
   "display_name": "Python 3",
   "language": "python",
   "name": "python3"
  },
  "language_info": {
   "codemirror_mode": {
    "name": "ipython",
    "version": 3
   },
   "file_extension": ".py",
   "mimetype": "text/x-python",
   "name": "python",
   "nbconvert_exporter": "python",
   "pygments_lexer": "ipython3",
   "version": "3.6.6"
  }
 },
 "nbformat": 4,
 "nbformat_minor": 2
}
